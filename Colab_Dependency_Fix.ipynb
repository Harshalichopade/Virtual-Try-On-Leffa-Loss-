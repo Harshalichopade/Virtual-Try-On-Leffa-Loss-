{
 "cells": [
  {
   "cell_type": "markdown",
   "id": "6b9b4e5e",
   "metadata": {},
   "source": [
    "# Virtual Try-On Leffa Loss - Dependency Conflict Resolution\n",
    "\n",
    "This notebook helps resolve Python dependency conflicts when running the Virtual Try-On Leffa Loss project in Google Colab.\n",
    "\n",
    "## Problem Overview\n",
    "You're getting dependency conflicts because:\n",
    "1. **Environment Differences**: Colab vs Kaggle have different pre-installed packages\n",
    "2. **NumPy Version Issues**: Many packages require NumPy < 2.0, but you have 2.2.6\n",
    "3. **Missing Version Constraints**: The original requirements.txt lacks specific versions\n",
    "\n",
    "## Solution Strategy\n",
    "We'll systematically check, analyze, and fix the dependency conflicts step by step."
   ]
  },
  {
   "cell_type": "markdown",
   "id": "0b21a0ff",
   "metadata": {},
   "source": [
    "## 1. Check Current Environment\n",
    "\n",
    "First, let's examine what packages are currently installed and their versions."
   ]
  },
  {
   "cell_type": "code",
   "execution_count": null,
   "id": "67af0d2f",
   "metadata": {},
   "outputs": [],
   "source": [
    "# Check Python version\n",
    "import sys\n",
    "print(f\"Python version: {sys.version}\")\n",
    "\n",
    "# Check if we're in Colab\n",
    "try:\n",
    "    import google.colab\n",
    "    print(\"✅ Running in Google Colab\")\n",
    "    IN_COLAB = True\n",
    "except ImportError:\n",
    "    print(\"❌ Not running in Google Colab\")\n",
    "    IN_COLAB = False"
   ]
  },
  {
   "cell_type": "code",
   "execution_count": null,
   "id": "5267f437",
   "metadata": {},
   "outputs": [],
   "source": [
    "# Check versions of problematic packages\n",
    "problematic_packages = [\n",
    "    'numpy', 'scipy', 'scikit-learn', 'matplotlib', 'pandas', \n",
    "    'tensorflow', 'torch', 'torchvision', 'protobuf', 'pyarrow'\n",
    "]\n",
    "\n",
    "import subprocess\n",
    "import pkg_resources\n",
    "\n",
    "for package in problematic_packages:\n",
    "    try:\n",
    "        version = pkg_resources.get_distribution(package).version\n",
    "        print(f\"{package}: {version}\")\n",
    "    except pkg_resources.DistributionNotFound:\n",
    "        print(f\"{package}: Not installed\")"
   ]
  },
  {
   "cell_type": "markdown",
   "id": "3c0edf13",
   "metadata": {},
   "source": [
    "## 2. Analyze Dependency Conflicts\n",
    "\n",
    "Let's check for dependency conflicts and understand the dependency tree."
   ]
  },
  {
   "cell_type": "code",
   "execution_count": null,
   "id": "bd4197d7",
   "metadata": {},
   "outputs": [],
   "source": [
    "# Install pipdeptree to analyze dependencies\n",
    "!pip install pipdeptree --quiet\n",
    "\n",
    "# Check for dependency conflicts\n",
    "print(\"=== Checking for dependency conflicts ===\")\n",
    "!pip check"
   ]
  },
  {
   "cell_type": "code",
   "execution_count": null,
   "id": "97f63166",
   "metadata": {},
   "outputs": [],
   "source": [
    "# Show dependency tree for key packages\n",
    "print(\"=== Dependency tree for numpy ===\")\n",
    "!pipdeptree -p numpy\n",
    "\n",
    "print(\"\\n=== Dependency tree for scipy ===\")\n",
    "!pipdeptree -p scipy\n",
    "\n",
    "print(\"\\n=== Dependency tree for tensorflow ===\")\n",
    "!pipdeptree -p tensorflow"
   ]
  },
  {
   "cell_type": "markdown",
   "id": "57bd045d",
   "metadata": {},
   "source": [
    "## 3. Compare Package Versions\n",
    "\n",
    "Let's compare what we have vs what's needed for the Virtual Try-On project."
   ]
  },
  {
   "cell_type": "code",
   "execution_count": null,
   "id": "1366b047",
   "metadata": {},
   "outputs": [],
   "source": [
    "# Required packages for Virtual Try-On Leffa Loss with compatible versions\n",
    "required_packages = {\n",
    "    'numpy': '1.26.4',  # Must be < 2.0 for compatibility\n",
    "    'scipy': '1.13.1',   # Must be < 1.14.0 for gensim\n",
    "    'scikit-learn': '1.5.1',  # Must be >= 1.3.2 for other packages\n",
    "    'matplotlib': '3.8.4',    # Must be >= 3.8.0 for plotnine\n",
    "    'pandas': '2.2.2',        # Required by google-colab\n",
    "    'torch': '2.1.0',         # Stable version with CUDA support\n",
    "    'torchvision': '0.16.0',  # Compatible with torch 2.1.0\n",
    "    'tensorflow': '2.15.0',   # Compatible with numpy < 2.0\n",
    "    'protobuf': '4.25.3',     # Must be >= 4.25.1 for onnx\n",
    "    'pyarrow': '15.0.2',      # Must be >= 21.0.0 for datasets\n",
    "}\n",
    "\n",
    "print(\"=== Required vs Current Versions ===\")\n",
    "for package, required_version in required_packages.items():\n",
    "    try:\n",
    "        current_version = pkg_resources.get_distribution(package).version\n",
    "        status = \"✅\" if current_version == required_version else \"❌\"\n",
    "        print(f\"{package}: Required {required_version}, Current {current_version} {status}\")\n",
    "    except pkg_resources.DistributionNotFound:\n",
    "        print(f\"{package}: Required {required_version}, Current Not installed ❌\")"
   ]
  },
  {
   "cell_type": "markdown",
   "id": "b6827d53",
   "metadata": {},
   "source": [
    "## 4. Install Compatible Packages\n",
    "\n",
    "Now let's install the packages with compatible versions step by step.\n",
    "\n",
    "⚠️ **Warning**: This will restart your runtime after installation."
   ]
  },
  {
   "cell_type": "code",
   "execution_count": null,
   "id": "404b59b0",
   "metadata": {},
   "outputs": [],
   "source": [
    "# Step 1: Install core scientific packages with compatible versions\n",
    "print(\"Installing core scientific packages...\")\n",
    "!pip install numpy==1.26.4 --force-reinstall --quiet\n",
    "!pip install scipy==1.13.1 --force-reinstall --quiet\n",
    "!pip install scikit-learn==1.5.1 --force-reinstall --quiet\n",
    "!pip install matplotlib==3.8.4 --force-reinstall --quiet\n",
    "!pip install pandas==2.2.2 --force-reinstall --quiet\n",
    "\n",
    "print(\"✅ Core scientific packages installed\")"
   ]
  },
  {
   "cell_type": "code",
   "execution_count": null,
   "id": "990cbc88",
   "metadata": {},
   "outputs": [],
   "source": [
    "# Step 2: Install PyTorch ecosystem\n",
    "print(\"Installing PyTorch ecosystem...\")\n",
    "!pip install torch==2.1.0 torchvision==0.16.0 torchaudio==2.1.0 --index-url https://download.pytorch.org/whl/cu118 --quiet\n",
    "\n",
    "print(\"✅ PyTorch ecosystem installed\")"
   ]
  },
  {
   "cell_type": "code",
   "execution_count": null,
   "id": "ce94f41f",
   "metadata": {},
   "outputs": [],
   "source": [
    "# Step 3: Install TensorFlow with compatible version\n",
    "print(\"Installing TensorFlow...\")\n",
    "!pip install tensorflow==2.15.0 --quiet\n",
    "\n",
    "print(\"✅ TensorFlow installed\")"
   ]
  },
  {
   "cell_type": "code",
   "execution_count": null,
   "id": "4b0a2888",
   "metadata": {},
   "outputs": [],
   "source": [
    "# Step 4: Install specific packages that were causing conflicts\n",
    "print(\"Installing packages that were causing conflicts...\")\n",
    "!pip install protobuf==4.25.3 --quiet\n",
    "!pip install pyarrow==15.0.2 --quiet\n",
    "\n",
    "print(\"✅ Conflict-causing packages fixed\")"
   ]
  },
  {
   "cell_type": "code",
   "execution_count": null,
   "id": "54806f3a",
   "metadata": {},
   "outputs": [],
   "source": [
    "# Step 5: Install the remaining Virtual Try-On requirements\n",
    "print(\"Installing remaining Virtual Try-On requirements...\")\n",
    "\n",
    "packages_to_install = [\n",
    "    \"transformers==4.40.0\",\n",
    "    \"diffusers==0.27.2\", \n",
    "    \"accelerate==0.30.1\",\n",
    "    \"gradio==4.26.0\",\n",
    "    \"opencv-python==4.9.0.80\",\n",
    "    \"scikit-image==0.22.0\",\n",
    "    \"pillow==10.3.0\",\n",
    "    \"omegaconf==2.3.0\",\n",
    "    \"einops==0.7.0\",\n",
    "    \"fvcore==0.1.5\",\n",
    "    \"pycocotools==2.0.7\",\n",
    "    \"timm==0.9.16\",\n",
    "    \"torchmetrics==1.4.0\",\n",
    "    \"safetensors==0.4.3\",\n",
    "    \"tokenizers==0.19.1\",\n",
    "    \"peft==0.11.1\",\n",
    "    \"regex==2024.5.15\",\n",
    "    \"cloudpickle==3.0.0\",\n",
    "    \"onnxruntime==1.18.0\",\n",
    "    \"imageio==2.34.1\",\n",
    "    \"tqdm==4.66.4\",\n",
    "    \"psutil==5.9.8\"\n",
    "]\n",
    "\n",
    "for package in packages_to_install:\n",
    "    print(f\"Installing {package}...\")\n",
    "    !pip install {package} --quiet\n",
    "\n",
    "print(\"✅ All Virtual Try-On requirements installed!\")"
   ]
  },
  {
   "cell_type": "markdown",
   "id": "fb348d62",
   "metadata": {},
   "source": [
    "## 5. Restart Runtime\n",
    "\n",
    "**IMPORTANT**: After running the above installation cells, you need to restart your runtime to ensure all packages are properly loaded."
   ]
  },
  {
   "cell_type": "code",
   "execution_count": null,
   "id": "d4dfe4c8",
   "metadata": {},
   "outputs": [],
   "source": [
    "# Restart the runtime automatically\n",
    "import os\n",
    "os.kill(os.getpid(), 9)"
   ]
  },
  {
   "cell_type": "markdown",
   "id": "54d22735",
   "metadata": {},
   "source": [
    "## 6. Verify Installation\n",
    "\n",
    "After the runtime restarts, run the following cells to verify everything is working correctly."
   ]
  },
  {
   "cell_type": "code",
   "execution_count": null,
   "id": "a4a11ee0",
   "metadata": {},
   "outputs": [],
   "source": [
    "# Test importing all critical packages\n",
    "test_packages = [\n",
    "    'numpy', 'scipy', 'sklearn', 'matplotlib', 'pandas',\n",
    "    'torch', 'torchvision', 'tensorflow', 'transformers', \n",
    "    'diffusers', 'gradio', 'cv2', 'PIL'\n",
    "]\n",
    "\n",
    "print(\"=== Testing Package Imports ===\")\n",
    "for package in test_packages:\n",
    "    try:\n",
    "        if package == 'sklearn':\n",
    "            import sklearn\n",
    "        elif package == 'cv2':\n",
    "            import cv2\n",
    "        elif package == 'PIL':\n",
    "            import PIL\n",
    "        else:\n",
    "            __import__(package)\n",
    "        print(f\"✅ {package}: Successfully imported\")\n",
    "    except ImportError as e:\n",
    "        print(f\"❌ {package}: Import failed - {e}\")"
   ]
  },
  {
   "cell_type": "code",
   "execution_count": null,
   "id": "699f191d",
   "metadata": {},
   "outputs": [],
   "source": [
    "# Final dependency check\n",
    "print(\"=== Final Dependency Check ===\")\n",
    "!pip check\n",
    "\n",
    "print(\"\\n=== Package Versions After Fix ===\")\n",
    "import pkg_resources\n",
    "\n",
    "for package in ['numpy', 'scipy', 'scikit-learn', 'torch', 'tensorflow']:\n",
    "    try:\n",
    "        version = pkg_resources.get_distribution(package).version\n",
    "        print(f\"{package}: {version}\")\n",
    "    except pkg_resources.DistributionNotFound:\n",
    "        print(f\"{package}: Not installed\")"
   ]
  },
  {
   "cell_type": "code",
   "execution_count": null,
   "id": "2b1ae246",
   "metadata": {},
   "outputs": [],
   "source": [
    "# Test running the Virtual Try-On app\n",
    "print(\"=== Testing Virtual Try-On App Import ===\")\n",
    "try:\n",
    "    # Clone or upload your project files first, then:\n",
    "    # import sys\n",
    "    # sys.path.append('/content/your-project-path')\n",
    "    \n",
    "    # Test basic functionality\n",
    "    import numpy as np\n",
    "    import torch\n",
    "    from PIL import Image\n",
    "    \n",
    "    print(\"✅ Basic imports successful\")\n",
    "    print(f\"NumPy version: {np.__version__}\")\n",
    "    print(f\"PyTorch version: {torch.__version__}\")\n",
    "    print(f\"CUDA available: {torch.cuda.is_available()}\")\n",
    "    \n",
    "    # You can now run your Virtual Try-On app!\n",
    "    print(\"\\n🎉 Ready to run Virtual Try-On Leffa Loss!\")\n",
    "    \n",
    "except Exception as e:\n",
    "    print(f\"❌ Error: {e}\")\n",
    "    print(\"Please check if all packages are correctly installed.\")"
   ]
  },
  {
   "cell_type": "markdown",
   "id": "bf27dafd",
   "metadata": {},
   "source": [
    "## Summary\n",
    "\n",
    "### Why Your Friend's Kaggle Setup Works but Yours Doesn't:\n",
    "\n",
    "1. **Different Pre-installed Packages**: Kaggle and Google Colab have different default environments\n",
    "2. **NumPy Version**: Colab has NumPy 2.2.6, but many ML packages require NumPy < 2.0\n",
    "3. **Environment Conflicts**: Google Colab has strict package version requirements that conflict with newer packages\n",
    "\n",
    "### What This Notebook Fixed:\n",
    "\n",
    "1. ✅ Downgraded NumPy to 1.26.4 (compatible with all packages)\n",
    "2. ✅ Installed scipy 1.13.1 (compatible with gensim requirements)\n",
    "3. ✅ Upgraded scikit-learn to 1.5.1 (meets modern package requirements)\n",
    "4. ✅ Used compatible PyTorch and TensorFlow versions\n",
    "5. ✅ Fixed protobuf and pyarrow version conflicts\n",
    "\n",
    "### Next Steps:\n",
    "\n",
    "1. Upload your Virtual Try-On project files to Colab\n",
    "2. Run the verification cells above\n",
    "3. Your project should now work without dependency conflicts!\n",
    "\n",
    "🎉 **Happy Virtual Try-On modeling!**"
   ]
  }
 ],
 "metadata": {
  "language_info": {
   "name": "python"
  }
 },
 "nbformat": 4,
 "nbformat_minor": 5
}
